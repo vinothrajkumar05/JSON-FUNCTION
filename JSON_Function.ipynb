{
  "cells": [
    {
      "cell_type": "markdown",
      "metadata": {
        "id": "view-in-github",
        "colab_type": "text"
      },
      "source": [
        "<a href=\"https://colab.research.google.com/github/vinothrajkumar05/JSON-FUNCTION/blob/main/JSON_Function.ipynb\" target=\"_parent\"><img src=\"https://colab.research.google.com/assets/colab-badge.svg\" alt=\"Open In Colab\"/></a>"
      ]
    },
    {
      "cell_type": "code",
      "execution_count": 1,
      "id": "86ba7ec8",
      "metadata": {
        "colab": {
          "base_uri": "https://localhost:8080/"
        },
        "id": "86ba7ec8",
        "outputId": "67592f0c-6bb8-4583-b901-969896aaeb8b"
      },
      "outputs": [
        {
          "output_type": "execute_result",
          "data": {
            "text/plain": [
              "{'article': [{'id': '10', 'player': 'sachin', 'type': 'batsman'},\n",
              "  {'id': '18', 'player': 'virat', 'type': 'batsman'}]}"
            ]
          },
          "metadata": {},
          "execution_count": 1
        }
      ],
      "source": [
        "{\n",
        "    \"article\" :[\n",
        "        {\n",
        "            \"id\":\"10\",\n",
        "            \"player\":\"sachin\",\n",
        "            \"type\":\"batsman\"\n",
        "        },\n",
        "        {\n",
        "            \"id\":\"18\",\n",
        "            \"player\":\"virat\",\n",
        "            \"type\":\"batsman\"\n",
        "        }\n",
        "    ]\n",
        "}"
      ]
    },
    {
      "cell_type": "code",
      "execution_count": null,
      "id": "ca1df34e",
      "metadata": {
        "id": "ca1df34e"
      },
      "outputs": [],
      "source": [
        ""
      ]
    },
    {
      "cell_type": "code",
      "execution_count": 2,
      "id": "ff701b46",
      "metadata": {
        "id": "ff701b46"
      },
      "outputs": [],
      "source": [
        "import json"
      ]
    },
    {
      "cell_type": "code",
      "execution_count": 3,
      "id": "ce39d9da",
      "metadata": {
        "id": "ce39d9da"
      },
      "outputs": [],
      "source": [
        "my_data = \"\"\"{\n",
        "\"article\" :[\n",
        "        {\n",
        "            \"id\":\"10\",\n",
        "            \"player\":\"sachin\",\n",
        "            \"type\":\"batsman\"\n",
        "        },\n",
        "        {\n",
        "            \"id\":\"18\",\n",
        "            \"player\":\"virat\",\n",
        "            \"type\":\"batsman\"\n",
        "        }\n",
        "    ]\n",
        "}\"\"\""
      ]
    },
    {
      "cell_type": "code",
      "execution_count": 5,
      "id": "76caaf14",
      "metadata": {
        "colab": {
          "base_uri": "https://localhost:8080/",
          "height": 53
        },
        "id": "76caaf14",
        "outputId": "07329524-cf73-4ee7-a2f0-fea9a20c11d9"
      },
      "outputs": [
        {
          "output_type": "execute_result",
          "data": {
            "application/vnd.google.colaboratory.intrinsic+json": {
              "type": "string"
            },
            "text/plain": [
              "'{\\n\"article\" :[\\n        {\\n            \"id\":\"10\",\\n            \"player\":\"sachin\",\\n            \"type\":\"batsman\"\\n        },\\n        {\\n            \"id\":\"18\",\\n            \"player\":\"virat\",\\n            \"type\":\"batsman\"\\n        }\\n    ]\\n}'"
            ]
          },
          "metadata": {},
          "execution_count": 5
        }
      ],
      "source": [
        "my_data"
      ]
    },
    {
      "cell_type": "code",
      "execution_count": 4,
      "id": "378b779f",
      "metadata": {
        "id": "378b779f"
      },
      "outputs": [],
      "source": [
        "to_data = json.loads(my_data)"
      ]
    },
    {
      "cell_type": "code",
      "execution_count": null,
      "id": "901baa1c",
      "metadata": {
        "id": "901baa1c",
        "outputId": "99a9fb48-e681-4031-a79d-03918043406e"
      },
      "outputs": [
        {
          "data": {
            "text/plain": [
              "{'article': [{'id': '10', 'player': 'sachin', 'type': 'batsman'},\n",
              "  {'id': '18', 'player': 'virat', 'type': 'batsman'}]}"
            ]
          },
          "execution_count": 5,
          "metadata": {},
          "output_type": "execute_result"
        }
      ],
      "source": [
        "to_data"
      ]
    },
    {
      "cell_type": "code",
      "execution_count": null,
      "id": "2cc5ec5e",
      "metadata": {
        "id": "2cc5ec5e",
        "outputId": "f1a3fd93-9ff2-426c-b02f-393ac87b6917"
      },
      "outputs": [
        {
          "data": {
            "text/plain": [
              "[{'id': '10', 'player': 'sachin', 'type': 'batsman'},\n",
              " {'id': '18', 'player': 'virat', 'type': 'batsman'}]"
            ]
          },
          "execution_count": 6,
          "metadata": {},
          "output_type": "execute_result"
        }
      ],
      "source": [
        "to_data['article']"
      ]
    },
    {
      "cell_type": "code",
      "execution_count": null,
      "id": "26fbf4c6",
      "metadata": {
        "id": "26fbf4c6"
      },
      "outputs": [],
      "source": [
        ""
      ]
    },
    {
      "cell_type": "code",
      "execution_count": null,
      "id": "746a7d74",
      "metadata": {
        "id": "746a7d74"
      },
      "outputs": [],
      "source": [
        "another_data = {'cricket':\"indian_cric\", 'name':\"test_team\"}"
      ]
    },
    {
      "cell_type": "code",
      "execution_count": null,
      "id": "ff0081f4",
      "metadata": {
        "id": "ff0081f4",
        "outputId": "6e94a748-3ca2-4ea8-ff3d-e9ca38dee051"
      },
      "outputs": [
        {
          "data": {
            "text/plain": [
              "{'cricket': 'indian_cric', 'name': 'test_team'}"
            ]
          },
          "execution_count": 8,
          "metadata": {},
          "output_type": "execute_result"
        }
      ],
      "source": [
        "another_data"
      ]
    },
    {
      "cell_type": "code",
      "execution_count": null,
      "id": "7a41484c",
      "metadata": {
        "id": "7a41484c"
      },
      "outputs": [],
      "source": [
        "to_json = json.dumps(another_data)"
      ]
    },
    {
      "cell_type": "code",
      "execution_count": null,
      "id": "1b35da42",
      "metadata": {
        "id": "1b35da42",
        "outputId": "3d643b8f-f836-4935-f66c-b6fc720d783e"
      },
      "outputs": [
        {
          "data": {
            "text/plain": [
              "'{\"cricket\": \"indian_cric\", \"name\": \"test_team\"}'"
            ]
          },
          "execution_count": 10,
          "metadata": {},
          "output_type": "execute_result"
        }
      ],
      "source": [
        "to_json"
      ]
    },
    {
      "cell_type": "code",
      "execution_count": null,
      "id": "fc0671ac",
      "metadata": {
        "id": "fc0671ac"
      },
      "outputs": [],
      "source": [
        ""
      ]
    },
    {
      "cell_type": "code",
      "execution_count": null,
      "id": "01682acb",
      "metadata": {
        "id": "01682acb"
      },
      "outputs": [],
      "source": [
        ""
      ]
    },
    {
      "cell_type": "code",
      "execution_count": null,
      "id": "0b5d2eb1",
      "metadata": {
        "id": "0b5d2eb1"
      },
      "outputs": [],
      "source": [
        "with open('cricket.json', 'w') as file:\n",
        "    json.dump(to_data, file)"
      ]
    },
    {
      "cell_type": "code",
      "execution_count": null,
      "id": "cbe41e54",
      "metadata": {
        "id": "cbe41e54",
        "outputId": "f68875c6-0eb2-424e-93af-397bc4c4cc9d"
      },
      "outputs": [
        {
          "name": "stdout",
          "output_type": "stream",
          "text": [
            "{'article': [{'id': '10', 'player': 'sachin', 'type': 'batsman'}, {'id': '99', 'player': 'ganguly', 'type': 'batsman'}]}\n"
          ]
        }
      ],
      "source": [
        "with open('cricket.json', 'r') as file:\n",
        "    json_data = json.load(file)\n",
        "    print(json_data)"
      ]
    },
    {
      "cell_type": "code",
      "execution_count": null,
      "id": "ba151783",
      "metadata": {
        "id": "ba151783"
      },
      "outputs": [],
      "source": [
        ""
      ]
    },
    {
      "cell_type": "code",
      "execution_count": null,
      "id": "7f557460",
      "metadata": {
        "id": "7f557460"
      },
      "outputs": [],
      "source": [
        ""
      ]
    },
    {
      "cell_type": "code",
      "execution_count": null,
      "id": "3499364e",
      "metadata": {
        "id": "3499364e"
      },
      "outputs": [],
      "source": [
        "#https://api.github.com/users"
      ]
    },
    {
      "cell_type": "code",
      "execution_count": null,
      "id": "90e9ce48",
      "metadata": {
        "id": "90e9ce48"
      },
      "outputs": [],
      "source": [
        ""
      ]
    },
    {
      "cell_type": "code",
      "execution_count": null,
      "id": "b8e85f11",
      "metadata": {
        "id": "b8e85f11"
      },
      "outputs": [],
      "source": [
        "import pandas as pd"
      ]
    },
    {
      "cell_type": "code",
      "execution_count": null,
      "id": "3c4b94a5",
      "metadata": {
        "id": "3c4b94a5"
      },
      "outputs": [],
      "source": [
        "df = pd.read_json('https://api.github.com/users')"
      ]
    },
    {
      "cell_type": "code",
      "execution_count": null,
      "id": "cf3bb175",
      "metadata": {
        "id": "cf3bb175"
      },
      "outputs": [],
      "source": [
        "df = pd.DataFrame(df)"
      ]
    },
    {
      "cell_type": "code",
      "execution_count": null,
      "id": "f6e13016",
      "metadata": {
        "id": "f6e13016",
        "outputId": "a181a712-c3f2-4f91-f3c7-bbd251cea47e"
      },
      "outputs": [
        {
          "data": {
            "text/html": [
              "<div>\n",
              "<style scoped>\n",
              "    .dataframe tbody tr th:only-of-type {\n",
              "        vertical-align: middle;\n",
              "    }\n",
              "\n",
              "    .dataframe tbody tr th {\n",
              "        vertical-align: top;\n",
              "    }\n",
              "\n",
              "    .dataframe thead th {\n",
              "        text-align: right;\n",
              "    }\n",
              "</style>\n",
              "<table border=\"1\" class=\"dataframe\">\n",
              "  <thead>\n",
              "    <tr style=\"text-align: right;\">\n",
              "      <th></th>\n",
              "      <th>login</th>\n",
              "      <th>id</th>\n",
              "      <th>node_id</th>\n",
              "      <th>avatar_url</th>\n",
              "      <th>gravatar_id</th>\n",
              "      <th>url</th>\n",
              "      <th>html_url</th>\n",
              "      <th>followers_url</th>\n",
              "      <th>following_url</th>\n",
              "      <th>gists_url</th>\n",
              "      <th>starred_url</th>\n",
              "      <th>subscriptions_url</th>\n",
              "      <th>organizations_url</th>\n",
              "      <th>repos_url</th>\n",
              "      <th>events_url</th>\n",
              "      <th>received_events_url</th>\n",
              "      <th>type</th>\n",
              "      <th>site_admin</th>\n",
              "    </tr>\n",
              "  </thead>\n",
              "  <tbody>\n",
              "    <tr>\n",
              "      <th>0</th>\n",
              "      <td>mojombo</td>\n",
              "      <td>1</td>\n",
              "      <td>MDQ6VXNlcjE=</td>\n",
              "      <td>https://avatars.githubusercontent.com/u/1?v=4</td>\n",
              "      <td></td>\n",
              "      <td>https://api.github.com/users/mojombo</td>\n",
              "      <td>https://github.com/mojombo</td>\n",
              "      <td>https://api.github.com/users/mojombo/followers</td>\n",
              "      <td>https://api.github.com/users/mojombo/following...</td>\n",
              "      <td>https://api.github.com/users/mojombo/gists{/gi...</td>\n",
              "      <td>https://api.github.com/users/mojombo/starred{/...</td>\n",
              "      <td>https://api.github.com/users/mojombo/subscript...</td>\n",
              "      <td>https://api.github.com/users/mojombo/orgs</td>\n",
              "      <td>https://api.github.com/users/mojombo/repos</td>\n",
              "      <td>https://api.github.com/users/mojombo/events{/p...</td>\n",
              "      <td>https://api.github.com/users/mojombo/received_...</td>\n",
              "      <td>User</td>\n",
              "      <td>False</td>\n",
              "    </tr>\n",
              "    <tr>\n",
              "      <th>1</th>\n",
              "      <td>defunkt</td>\n",
              "      <td>2</td>\n",
              "      <td>MDQ6VXNlcjI=</td>\n",
              "      <td>https://avatars.githubusercontent.com/u/2?v=4</td>\n",
              "      <td></td>\n",
              "      <td>https://api.github.com/users/defunkt</td>\n",
              "      <td>https://github.com/defunkt</td>\n",
              "      <td>https://api.github.com/users/defunkt/followers</td>\n",
              "      <td>https://api.github.com/users/defunkt/following...</td>\n",
              "      <td>https://api.github.com/users/defunkt/gists{/gi...</td>\n",
              "      <td>https://api.github.com/users/defunkt/starred{/...</td>\n",
              "      <td>https://api.github.com/users/defunkt/subscript...</td>\n",
              "      <td>https://api.github.com/users/defunkt/orgs</td>\n",
              "      <td>https://api.github.com/users/defunkt/repos</td>\n",
              "      <td>https://api.github.com/users/defunkt/events{/p...</td>\n",
              "      <td>https://api.github.com/users/defunkt/received_...</td>\n",
              "      <td>User</td>\n",
              "      <td>False</td>\n",
              "    </tr>\n",
              "    <tr>\n",
              "      <th>2</th>\n",
              "      <td>pjhyett</td>\n",
              "      <td>3</td>\n",
              "      <td>MDQ6VXNlcjM=</td>\n",
              "      <td>https://avatars.githubusercontent.com/u/3?v=4</td>\n",
              "      <td></td>\n",
              "      <td>https://api.github.com/users/pjhyett</td>\n",
              "      <td>https://github.com/pjhyett</td>\n",
              "      <td>https://api.github.com/users/pjhyett/followers</td>\n",
              "      <td>https://api.github.com/users/pjhyett/following...</td>\n",
              "      <td>https://api.github.com/users/pjhyett/gists{/gi...</td>\n",
              "      <td>https://api.github.com/users/pjhyett/starred{/...</td>\n",
              "      <td>https://api.github.com/users/pjhyett/subscript...</td>\n",
              "      <td>https://api.github.com/users/pjhyett/orgs</td>\n",
              "      <td>https://api.github.com/users/pjhyett/repos</td>\n",
              "      <td>https://api.github.com/users/pjhyett/events{/p...</td>\n",
              "      <td>https://api.github.com/users/pjhyett/received_...</td>\n",
              "      <td>User</td>\n",
              "      <td>False</td>\n",
              "    </tr>\n",
              "    <tr>\n",
              "      <th>3</th>\n",
              "      <td>wycats</td>\n",
              "      <td>4</td>\n",
              "      <td>MDQ6VXNlcjQ=</td>\n",
              "      <td>https://avatars.githubusercontent.com/u/4?v=4</td>\n",
              "      <td></td>\n",
              "      <td>https://api.github.com/users/wycats</td>\n",
              "      <td>https://github.com/wycats</td>\n",
              "      <td>https://api.github.com/users/wycats/followers</td>\n",
              "      <td>https://api.github.com/users/wycats/following{...</td>\n",
              "      <td>https://api.github.com/users/wycats/gists{/gis...</td>\n",
              "      <td>https://api.github.com/users/wycats/starred{/o...</td>\n",
              "      <td>https://api.github.com/users/wycats/subscriptions</td>\n",
              "      <td>https://api.github.com/users/wycats/orgs</td>\n",
              "      <td>https://api.github.com/users/wycats/repos</td>\n",
              "      <td>https://api.github.com/users/wycats/events{/pr...</td>\n",
              "      <td>https://api.github.com/users/wycats/received_e...</td>\n",
              "      <td>User</td>\n",
              "      <td>False</td>\n",
              "    </tr>\n",
              "    <tr>\n",
              "      <th>4</th>\n",
              "      <td>ezmobius</td>\n",
              "      <td>5</td>\n",
              "      <td>MDQ6VXNlcjU=</td>\n",
              "      <td>https://avatars.githubusercontent.com/u/5?v=4</td>\n",
              "      <td></td>\n",
              "      <td>https://api.github.com/users/ezmobius</td>\n",
              "      <td>https://github.com/ezmobius</td>\n",
              "      <td>https://api.github.com/users/ezmobius/followers</td>\n",
              "      <td>https://api.github.com/users/ezmobius/followin...</td>\n",
              "      <td>https://api.github.com/users/ezmobius/gists{/g...</td>\n",
              "      <td>https://api.github.com/users/ezmobius/starred{...</td>\n",
              "      <td>https://api.github.com/users/ezmobius/subscrip...</td>\n",
              "      <td>https://api.github.com/users/ezmobius/orgs</td>\n",
              "      <td>https://api.github.com/users/ezmobius/repos</td>\n",
              "      <td>https://api.github.com/users/ezmobius/events{/...</td>\n",
              "      <td>https://api.github.com/users/ezmobius/received...</td>\n",
              "      <td>User</td>\n",
              "      <td>False</td>\n",
              "    </tr>\n",
              "  </tbody>\n",
              "</table>\n",
              "</div>"
            ],
            "text/plain": [
              "      login  id       node_id                                     avatar_url  \\\n",
              "0   mojombo   1  MDQ6VXNlcjE=  https://avatars.githubusercontent.com/u/1?v=4   \n",
              "1   defunkt   2  MDQ6VXNlcjI=  https://avatars.githubusercontent.com/u/2?v=4   \n",
              "2   pjhyett   3  MDQ6VXNlcjM=  https://avatars.githubusercontent.com/u/3?v=4   \n",
              "3    wycats   4  MDQ6VXNlcjQ=  https://avatars.githubusercontent.com/u/4?v=4   \n",
              "4  ezmobius   5  MDQ6VXNlcjU=  https://avatars.githubusercontent.com/u/5?v=4   \n",
              "\n",
              "  gravatar_id                                    url  \\\n",
              "0               https://api.github.com/users/mojombo   \n",
              "1               https://api.github.com/users/defunkt   \n",
              "2               https://api.github.com/users/pjhyett   \n",
              "3                https://api.github.com/users/wycats   \n",
              "4              https://api.github.com/users/ezmobius   \n",
              "\n",
              "                      html_url  \\\n",
              "0   https://github.com/mojombo   \n",
              "1   https://github.com/defunkt   \n",
              "2   https://github.com/pjhyett   \n",
              "3    https://github.com/wycats   \n",
              "4  https://github.com/ezmobius   \n",
              "\n",
              "                                     followers_url  \\\n",
              "0   https://api.github.com/users/mojombo/followers   \n",
              "1   https://api.github.com/users/defunkt/followers   \n",
              "2   https://api.github.com/users/pjhyett/followers   \n",
              "3    https://api.github.com/users/wycats/followers   \n",
              "4  https://api.github.com/users/ezmobius/followers   \n",
              "\n",
              "                                       following_url  \\\n",
              "0  https://api.github.com/users/mojombo/following...   \n",
              "1  https://api.github.com/users/defunkt/following...   \n",
              "2  https://api.github.com/users/pjhyett/following...   \n",
              "3  https://api.github.com/users/wycats/following{...   \n",
              "4  https://api.github.com/users/ezmobius/followin...   \n",
              "\n",
              "                                           gists_url  \\\n",
              "0  https://api.github.com/users/mojombo/gists{/gi...   \n",
              "1  https://api.github.com/users/defunkt/gists{/gi...   \n",
              "2  https://api.github.com/users/pjhyett/gists{/gi...   \n",
              "3  https://api.github.com/users/wycats/gists{/gis...   \n",
              "4  https://api.github.com/users/ezmobius/gists{/g...   \n",
              "\n",
              "                                         starred_url  \\\n",
              "0  https://api.github.com/users/mojombo/starred{/...   \n",
              "1  https://api.github.com/users/defunkt/starred{/...   \n",
              "2  https://api.github.com/users/pjhyett/starred{/...   \n",
              "3  https://api.github.com/users/wycats/starred{/o...   \n",
              "4  https://api.github.com/users/ezmobius/starred{...   \n",
              "\n",
              "                                   subscriptions_url  \\\n",
              "0  https://api.github.com/users/mojombo/subscript...   \n",
              "1  https://api.github.com/users/defunkt/subscript...   \n",
              "2  https://api.github.com/users/pjhyett/subscript...   \n",
              "3  https://api.github.com/users/wycats/subscriptions   \n",
              "4  https://api.github.com/users/ezmobius/subscrip...   \n",
              "\n",
              "                            organizations_url  \\\n",
              "0   https://api.github.com/users/mojombo/orgs   \n",
              "1   https://api.github.com/users/defunkt/orgs   \n",
              "2   https://api.github.com/users/pjhyett/orgs   \n",
              "3    https://api.github.com/users/wycats/orgs   \n",
              "4  https://api.github.com/users/ezmobius/orgs   \n",
              "\n",
              "                                     repos_url  \\\n",
              "0   https://api.github.com/users/mojombo/repos   \n",
              "1   https://api.github.com/users/defunkt/repos   \n",
              "2   https://api.github.com/users/pjhyett/repos   \n",
              "3    https://api.github.com/users/wycats/repos   \n",
              "4  https://api.github.com/users/ezmobius/repos   \n",
              "\n",
              "                                          events_url  \\\n",
              "0  https://api.github.com/users/mojombo/events{/p...   \n",
              "1  https://api.github.com/users/defunkt/events{/p...   \n",
              "2  https://api.github.com/users/pjhyett/events{/p...   \n",
              "3  https://api.github.com/users/wycats/events{/pr...   \n",
              "4  https://api.github.com/users/ezmobius/events{/...   \n",
              "\n",
              "                                 received_events_url  type  site_admin  \n",
              "0  https://api.github.com/users/mojombo/received_...  User       False  \n",
              "1  https://api.github.com/users/defunkt/received_...  User       False  \n",
              "2  https://api.github.com/users/pjhyett/received_...  User       False  \n",
              "3  https://api.github.com/users/wycats/received_e...  User       False  \n",
              "4  https://api.github.com/users/ezmobius/received...  User       False  "
            ]
          },
          "execution_count": 20,
          "metadata": {},
          "output_type": "execute_result"
        }
      ],
      "source": [
        "df.head()"
      ]
    },
    {
      "cell_type": "code",
      "execution_count": null,
      "id": "ac265d20",
      "metadata": {
        "id": "ac265d20"
      },
      "outputs": [],
      "source": [
        "df.to_csv(\"abc.csv\")"
      ]
    },
    {
      "cell_type": "code",
      "execution_count": null,
      "id": "bd100cfa",
      "metadata": {
        "id": "bd100cfa"
      },
      "outputs": [],
      "source": [
        ""
      ]
    }
  ],
  "metadata": {
    "kernelspec": {
      "display_name": "Python 3 (ipykernel)",
      "language": "python",
      "name": "python3"
    },
    "language_info": {
      "codemirror_mode": {
        "name": "ipython",
        "version": 3
      },
      "file_extension": ".py",
      "mimetype": "text/x-python",
      "name": "python",
      "nbconvert_exporter": "python",
      "pygments_lexer": "ipython3",
      "version": "3.7.8"
    },
    "colab": {
      "name": "JSON Function.ipynb",
      "provenance": [],
      "collapsed_sections": [],
      "include_colab_link": true
    }
  },
  "nbformat": 4,
  "nbformat_minor": 5
}